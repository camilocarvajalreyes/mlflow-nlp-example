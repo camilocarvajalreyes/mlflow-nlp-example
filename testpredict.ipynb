{
 "cells": [
  {
   "cell_type": "code",
   "execution_count": 29,
   "metadata": {},
   "outputs": [],
   "source": [
    "import pickle\n",
    "import pickle\n",
    "\n",
    "from nltk.tokenize import TweetTokenizer\n",
    "from sklearn.feature_extraction.text import CountVectorizer\n",
    "from sklearn.naive_bayes import MultinomialNB\n",
    "from sklearn.metrics import classification_report\n",
    "from urllib.parse import urlparse\n",
    "import warnings\n",
    "import sys\n",
    "\n",
    "import mlflow\n",
    "import mlflow.sklearn"
   ]
  },
  {
   "cell_type": "code",
   "execution_count": 55,
   "metadata": {},
   "outputs": [],
   "source": [
    "test=pickle.load(open(\"Data/train/df_us_train.pickle\", \"rb\"))\n",
    "train=pickle.load(open(\"Data/test/df_us_test.pickle\", \"rb\"))"
   ]
  },
  {
   "cell_type": "code",
   "execution_count": 72,
   "metadata": {},
   "outputs": [],
   "source": [
    "tt = TweetTokenizer()\n",
    "train['tokenized_text'] = train['text'].str.lower().apply(lambda x: \" \".join(tt.tokenize(x)))\n",
    "test['tokenized_text'] = test['text'].str.lower().apply(lambda x: \" \".join(tt.tokenize(x)))\n",
    "train['tokenized_text'] = train['text'].str.lower().apply(lambda x: \" \".join(tt.tokenize(x)))\n",
    "vectorizer = CountVectorizer(min_df=5)\n",
    "X_train_bow = vectorizer.fit_transform(test[\"tokenized_text\"])\n",
    "X_test_bow = vectorizer.transform(train[\"tokenized_text\"])\n"
   ]
  },
  {
   "cell_type": "code",
   "execution_count": 79,
   "metadata": {},
   "outputs": [
    {
     "data": {
      "text/plain": [
       "array(['1', '10', '12', ..., '0', '11', '0'], dtype='<U2')"
      ]
     },
     "execution_count": 79,
     "metadata": {},
     "output_type": "execute_result"
    }
   ],
   "source": [
    "import mlflow\n",
    "logged_model = \"file:///home/camilo/ESO_internship/mlflow-nlp-example/mlruns/0/661a394ad60548d7ac611ae44434271a/artifacts/model\"\n",
    "\n",
    "# Load model as a PyFuncModel.\n",
    "loaded_model = mlflow.pyfunc.load_model(logged_model)\n",
    "\n",
    "# Predict on a Pandas DataFrame.\n",
    "import pandas as pd\n",
    "loaded_model.predict(X_test_bow)"
   ]
  },
  {
   "cell_type": "code",
   "execution_count": null,
   "metadata": {},
   "outputs": [],
   "source": []
  }
 ],
 "metadata": {
  "kernelspec": {
   "display_name": "Python 3.9.12 ('mlflow')",
   "language": "python",
   "name": "python3"
  },
  "language_info": {
   "codemirror_mode": {
    "name": "ipython",
    "version": 3
   },
   "file_extension": ".py",
   "mimetype": "text/x-python",
   "name": "python",
   "nbconvert_exporter": "python",
   "pygments_lexer": "ipython3",
   "version": "3.9.12"
  },
  "orig_nbformat": 4,
  "vscode": {
   "interpreter": {
    "hash": "b73679ee19808f2f4ee64d5117f0062af8deebefb9cb0eada53b531c52da302f"
   }
  }
 },
 "nbformat": 4,
 "nbformat_minor": 2
}
